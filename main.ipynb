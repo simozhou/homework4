{
 "cells": [
  {
   "cell_type": "markdown",
   "metadata": {},
   "source": [
    "## Equivalent words\n",
    "--- \n",
    "\n",
    "Given a tuple of words $(v,w)$, draw a path of words all contained in a given dictionary $D$. \n",
    "We have two versions of this game:\n",
    "\n",
    "- **General**: the standard game\n",
    "- **Simple**: an additional constraint is added; all words in the path must have the same length $L(v)$ given that $L(v) = L(w)$\n"
   ]
  },
  {
   "cell_type": "code",
   "execution_count": 1,
   "metadata": {},
   "outputs": [],
   "source": [
    "import equivalent_words as eq\n",
    "import networkx as nx\n",
    "import pickle"
   ]
  },
  {
   "cell_type": "markdown",
   "metadata": {},
   "source": [
    "We wrote a module containing all the functions we need. Check out our [wiki](https://github.com/simozhou/homework4/wiki) from more infos.\n",
    "\n",
    "The main core of this problem the graph approach. We defined our graph like:\n",
    "\n",
    "$G(V,F(v)); v \\in V; F(v) \\subseteq V$ where $F(v)$ is the subset of all the words which have an edit distance of 1 with the word $v$. \n",
    "\n",
    "We will launch here for demonstration the creation of the graph and the consecutive pickling, even though this need only to be done once. A dictionary of words sorted by lenght will be generated too."
   ]
  },
  {
   "cell_type": "code",
   "execution_count": 2,
   "metadata": {},
   "outputs": [],
   "source": [
    "graphy = eq.grapher(\"words_alpha.txt\")"
   ]
  },
  {
   "cell_type": "code",
   "execution_count": 21,
   "metadata": {},
   "outputs": [],
   "source": [
    "dictionary_len = eq.data_baker_len()"
   ]
  },
  {
   "cell_type": "code",
   "execution_count": 14,
   "metadata": {},
   "outputs": [],
   "source": [
    "with open(\"len_dict.pickle\", 'wb') as p:\n",
    "    pickle.dump(dictionary_len, p)"
   ]
  },
  {
   "cell_type": "code",
   "execution_count": 7,
   "metadata": {},
   "outputs": [],
   "source": [
    "nx.write_gpickle(graphy, \"graph.pickle\")"
   ]
  },
  {
   "cell_type": "markdown",
   "metadata": {},
   "source": [
    "Now that everything is ready and pickled (yum!), we can **play** a little with it!"
   ]
  },
  {
   "cell_type": "code",
   "execution_count": 3,
   "metadata": {},
   "outputs": [
    {
     "name": "stdout",
     "output_type": "stream",
     "text": [
      "Path:\n",
      "head -> tead -> teal -> taal -> tail \n",
      "\n",
      "Path:\n",
      "bounce -> bouncy -> bounty -> county -> courty -> coursy -> course -> courie -> coorie -> cootie -> bootie -> bootle -> bottle -> mottle -> mettle -> kettle \n",
      "\n",
      "Path:\n",
      "abbey -> abbe -> abb -> ab -> ad -> oad -> road\n"
     ]
    }
   ],
   "source": [
    "print(eq.equivalent_words(\"head\", \"tail\", \"simple\"), '\\n')\n",
    "print(eq.equivalent_words(\"bounce\", \"kettle\", \"simple\"), '\\n')\n",
    "print(eq.equivalent_words(\"abbey\", \"road\"), '\\n')"
   ]
  },
  {
   "cell_type": "code",
   "execution_count": 4,
   "metadata": {},
   "outputs": [
    {
     "ename": "ValueError",
     "evalue": "Can't use words with different length in simple mode! Switch to general mode.",
     "output_type": "error",
     "traceback": [
      "\u001b[1;31m---------------------------------------------------------------------------\u001b[0m",
      "\u001b[1;31mValueError\u001b[0m                                Traceback (most recent call last)",
      "\u001b[1;32m<ipython-input-4-cd08c8bdfe88>\u001b[0m in \u001b[0;36m<module>\u001b[1;34m()\u001b[0m\n\u001b[0;32m      1\u001b[0m \u001b[1;31m# raising an error\u001b[0m\u001b[1;33m\u001b[0m\u001b[1;33m\u001b[0m\u001b[0m\n\u001b[1;32m----> 2\u001b[1;33m \u001b[0mprint\u001b[0m\u001b[1;33m(\u001b[0m\u001b[0meq\u001b[0m\u001b[1;33m.\u001b[0m\u001b[0mequivalent_words\u001b[0m\u001b[1;33m(\u001b[0m\u001b[1;34m\"bouncey\"\u001b[0m\u001b[1;33m,\u001b[0m \u001b[1;34m'kettle'\u001b[0m\u001b[1;33m,\u001b[0m \u001b[1;34m'simple'\u001b[0m\u001b[1;33m)\u001b[0m\u001b[1;33m)\u001b[0m\u001b[1;33m\u001b[0m\u001b[0m\n\u001b[0m",
      "\u001b[1;32m~\\PycharmProjects\\homework4\\equivalent_words.py\u001b[0m in \u001b[0;36mequivalent_words\u001b[1;34m(start, end, gameplay)\u001b[0m\n\u001b[0;32m     49\u001b[0m     \u001b[1;32mif\u001b[0m \u001b[0mgameplay\u001b[0m \u001b[1;33m==\u001b[0m \u001b[1;34m\"simple\"\u001b[0m\u001b[1;33m:\u001b[0m\u001b[1;33m\u001b[0m\u001b[0m\n\u001b[0;32m     50\u001b[0m         \u001b[1;32mif\u001b[0m \u001b[0mlen\u001b[0m\u001b[1;33m(\u001b[0m\u001b[0mstart\u001b[0m\u001b[1;33m)\u001b[0m \u001b[1;33m!=\u001b[0m \u001b[0mlen\u001b[0m\u001b[1;33m(\u001b[0m\u001b[0mend\u001b[0m\u001b[1;33m)\u001b[0m\u001b[1;33m:\u001b[0m\u001b[1;33m\u001b[0m\u001b[0m\n\u001b[1;32m---> 51\u001b[1;33m             \u001b[1;32mraise\u001b[0m \u001b[0mValueError\u001b[0m\u001b[1;33m(\u001b[0m\u001b[1;34m\"Can't use words with different length in simple mode! Switch to general mode.\"\u001b[0m\u001b[1;33m)\u001b[0m\u001b[1;33m\u001b[0m\u001b[0m\n\u001b[0m\u001b[0;32m     52\u001b[0m         \u001b[0mgraph\u001b[0m \u001b[1;33m=\u001b[0m \u001b[0mnx\u001b[0m\u001b[1;33m.\u001b[0m\u001b[0msubgraph\u001b[0m\u001b[1;33m(\u001b[0m\u001b[0mgraph\u001b[0m\u001b[1;33m,\u001b[0m \u001b[0mdict_len\u001b[0m\u001b[1;33m[\u001b[0m\u001b[0mlen\u001b[0m\u001b[1;33m(\u001b[0m\u001b[0mstart\u001b[0m\u001b[1;33m)\u001b[0m\u001b[1;33m]\u001b[0m\u001b[1;33m)\u001b[0m\u001b[1;33m\u001b[0m\u001b[0m\n\u001b[0;32m     53\u001b[0m     \u001b[1;32mtry\u001b[0m\u001b[1;33m:\u001b[0m\u001b[1;33m\u001b[0m\u001b[0m\n",
      "\u001b[1;31mValueError\u001b[0m: Can't use words with different length in simple mode! Switch to general mode."
     ]
    }
   ],
   "source": [
    "# raising an error\n",
    "print(eq.equivalent_words(\"bouncey\", 'kettle', 'simple'))"
   ]
  }
 ],
 "metadata": {
  "kernelspec": {
   "display_name": "Python 3",
   "language": "python",
   "name": "python3"
  },
  "language_info": {
   "codemirror_mode": {
    "name": "ipython",
    "version": 3
   },
   "file_extension": ".py",
   "mimetype": "text/x-python",
   "name": "python",
   "nbconvert_exporter": "python",
   "pygments_lexer": "ipython3",
   "version": "3.6.2"
  }
 },
 "nbformat": 4,
 "nbformat_minor": 2
}
