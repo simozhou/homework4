{
 "cells": [
  {
   "cell_type": "code",
   "execution_count": 1,
   "metadata": {},
   "outputs": [],
   "source": [
    "import networkx as nx\n",
    "from collections import defaultdict\n",
    "from itertools import groupby"
   ]
  },
  {
   "cell_type": "code",
   "execution_count": 2,
   "metadata": {},
   "outputs": [],
   "source": [
    "def data_baker_len(filename=\"words_alpha.txt\"):\n",
    "    \"\"\"function that takes in a text file of words and bae them into a python list + dict them according to sizes\"\"\"\n",
    "    with open(filename) as f:\n",
    "        words = f.read().split()\n",
    "\n",
    "    words_len = defaultdict(list)\n",
    "    for key, values in groupby(words, key=len):\n",
    "        words_len[key] += list(values)\n",
    "\n",
    "    return words_len\n",
    "\n",
    "def words_gen(filename=\"words_alpha.txt\"):\n",
    "    with open(filename, 'r') as f:\n",
    "        for i in f.read().split():\n",
    "            yield i\n",
    "    \n",
    "def word_cooker(word):\n",
    "    yield \"_\" + word\n",
    "    for i in range(len(word)):\n",
    "        yield word[:i] + \"_\" + word[i+1:]\n",
    "        yield word[:i+1] + \"_\" + word[i+1:]\n",
    "\n",
    "def grapher(wordFile):\n",
    "    d = {}\n",
    "    g = nx.Graph()\n",
    "    wfile = open(wordFile,'r')\n",
    "    # create buckets of words that differ by one letter\n",
    "    for line in wfile:\n",
    "        word = line[:-1]\n",
    "        for bucket in word_cooker(word):\n",
    "            if bucket in d:\n",
    "                d[bucket].append(word)\n",
    "            else:\n",
    "                d[bucket] = [word]\n",
    "    # add vertices and edges for words in the same bucket\n",
    "    for bucket in d.keys():\n",
    "        for word1 in d[bucket]:\n",
    "            for word2 in d[bucket]:\n",
    "                if word1 != word2:\n",
    "                    g.add_edge(word1,word2)\n",
    "    return g"
   ]
  },
  {
   "cell_type": "code",
   "execution_count": 3,
   "metadata": {},
   "outputs": [],
   "source": [
    "len_dict = data_baker_len() \n",
    "graph_eq_words = grapher(\"words_alpha.txt\")"
   ]
  },
  {
   "cell_type": "code",
   "execution_count": 5,
   "metadata": {
    "scrolled": false
   },
   "outputs": [
    {
     "data": {
      "text/plain": [
       "'head->tead->teal->taal->tail'"
      ]
     },
     "execution_count": 5,
     "metadata": {},
     "output_type": "execute_result"
    }
   ],
   "source": [
    "len_dict = data_baker_len()\n",
    "\"->\".join(nx.astar_path(nx.subgraph(graph_eq_words, len_dict[4]), \"head\", \"tail\"))"
   ]
  },
  {
   "cell_type": "code",
   "execution_count": 6,
   "metadata": {},
   "outputs": [],
   "source": [
    "nx.write_gpickle(graph_eq_words, \"equivalent_words_graph.pickle\")"
   ]
  },
  {
   "cell_type": "code",
   "execution_count": 7,
   "metadata": {},
   "outputs": [],
   "source": [
    "a = nx.read_gpickle(\"equivalent_words_graph.pickle\")"
   ]
  },
  {
   "cell_type": "code",
   "execution_count": 9,
   "metadata": {},
   "outputs": [
    {
     "name": "stdout",
     "output_type": "stream",
     "text": [
      "Name: \n",
      "Type: Graph\n",
      "Number of nodes: 229748\n",
      "Number of edges: 461166\n",
      "Average degree:   4.0145\n"
     ]
    }
   ],
   "source": [
    "print(nx.info(a))"
   ]
  },
  {
   "cell_type": "code",
   "execution_count": 10,
   "metadata": {},
   "outputs": [
    {
     "data": {
      "text/plain": [
       "['head', 'ead', 'tad', 'tai', 'tail']"
      ]
     },
     "execution_count": 10,
     "metadata": {},
     "output_type": "execute_result"
    }
   ],
   "source": [
    "nx.astar_path(a, \"head\", \"tail\")"
   ]
  },
  {
   "cell_type": "code",
   "execution_count": null,
   "metadata": {},
   "outputs": [],
   "source": []
  }
 ],
 "metadata": {
  "kernelspec": {
   "display_name": "Python 3",
   "language": "python",
   "name": "python3"
  },
  "language_info": {
   "codemirror_mode": {
    "name": "ipython",
    "version": 3
   },
   "file_extension": ".py",
   "mimetype": "text/x-python",
   "name": "python",
   "nbconvert_exporter": "python",
   "pygments_lexer": "ipython3",
   "version": "3.6.2"
  }
 },
 "nbformat": 4,
 "nbformat_minor": 2
}
